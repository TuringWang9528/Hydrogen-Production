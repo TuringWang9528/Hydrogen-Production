{
 "cells": [
  {
   "cell_type": "code",
   "execution_count": 4,
   "id": "f6cf778d-aa45-4da2-b557-82757295aacd",
   "metadata": {},
   "outputs": [],
   "source": [
    "import streamlit as st\n",
    "import joblib\n",
    "import numpy as np\n",
    "import pandas as pd\n",
    "\n",
    "# 加载模型\n",
    "model = joblib.load('CatBoost.pkl')\n",
    "\n",
    "# Streamlit的用户界面\n",
    "st.title(\"Sodium borohydride hydrogen production prediction platform\")\n",
    "\n",
    "# age: 数值输入\n",
    "LoadingRate = st.number_input(\"Catalyst Loading Rate(%)\", min_value=58, max_value=100, value=70)\n",
    "\n",
    "# trestbps: 数值输入\n",
    "ReactionTime = st.number_input(\"Reaction Time(min):\", min_value=1, max_value=51, value=20)\n",
    "\n",
    "# chol: 数值输入\n",
    "Temperature = st.number_input(\"Temperature(K):\", min_value=303, max_value=363, value=320)\n",
    "\n",
    "# thalach: 数值输入\n",
    "CatalystDosage = st.number_input(\"Catalyst Dosage(g):\", min_value=0.01, max_value=0.05, value=0.03)\n",
    "\n",
    "# oldpeak: 数值输入\n",
    "NaBH4 = st.number_input(\"NaBH4(mol/L):\", min_value=0.5, max_value=5.0, value=3.0)\n",
    "\n",
    "# ca: 数值输入\n",
    "NaOH = st.number_input(\"NaOH(mol/L):\", min_value=0.25, max_value=4.00, value=2.00)\n",
    "\n",
    "# 处理输入并进行预测\n",
    "feature_values = [LoadingRate, ReactionTime, Temperature, CatalystDosage, NaBH4, NaOH]\n",
    "features = np.array([feature_values])\n",
    "\n",
    "if st.button(\"Predict\"):\n",
    "    # 预测类别和概率\n",
    "    predicted_proba = model.predict_proba(features)[0]\n",
    "\n",
    "    # 显示预测结果\n",
    "    st.write(f\"**Predicted hydrogen production:** {predicted_proba}\")\n",
    "    \n",
    "    # Calculate SHAP values and display force plot\n",
    "    explainer = shap.TreeExplainer(model)\n",
    "    shap_values = explainer.shap_values(pd.DataFrame([feature_values], columns=feature_names))\n",
    "\n",
    "    shap.force_plot(explainer.expected_value, shap_values[0], pd.DataFrame([feature_values], columns=feature_names), matplotlib=True)\n",
    "    plt.savefig(\"shap_force_plot.png\", bbox_inches='tight', dpi=1200)\n",
    "\n",
    "    st.image(\"shap_force_plot.png\")"
   ]
  },
  {
   "cell_type": "code",
   "execution_count": null,
   "id": "db09ab75-5b6e-4375-8051-6d3850abf213",
   "metadata": {},
   "outputs": [],
   "source": [
    "streamlit run app.py"
   ]
  }
 ],
 "metadata": {
  "kernelspec": {
   "display_name": "Python 3 (ipykernel)",
   "language": "python",
   "name": "python3"
  },
  "language_info": {
   "codemirror_mode": {
    "name": "ipython",
    "version": 3
   },
   "file_extension": ".py",
   "mimetype": "text/x-python",
   "name": "python",
   "nbconvert_exporter": "python",
   "pygments_lexer": "ipython3",
   "version": "3.11.7"
  }
 },
 "nbformat": 4,
 "nbformat_minor": 5
}
